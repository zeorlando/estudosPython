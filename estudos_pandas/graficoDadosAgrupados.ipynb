{
 "cells": [
  {
   "cell_type": "code",
   "execution_count": 75,
   "metadata": {},
   "outputs": [],
   "source": [
    "import pandas as pd\n",
    "import requests\n",
    "import json\n",
    "import random\n",
    "import seaborn as sns"
   ]
  },
  {
   "cell_type": "code",
   "execution_count": 51,
   "metadata": {},
   "outputs": [],
   "source": [
    "qtd_nomes = 60\n",
    "\n",
    "nomes = requests.get(f'https://gerador-nomes.wolan.net/nomes/{qtd_nomes}')\n",
    "valor_nomes = json.loads(nomes.content)"
   ]
  },
  {
   "cell_type": "code",
   "execution_count": 52,
   "metadata": {},
   "outputs": [],
   "source": [
    "lista_notas = []\n",
    "disciplinas = []\n",
    "for i in range(qtd_nomes):\n",
    "    lista_notas.append(round(random.uniform(1,10),2))\n",
    "    disciplinas.append(random.choice(['MAT', 'CIE', 'GEO', 'HIS', 'POR']))"
   ]
  },
  {
   "cell_type": "code",
   "execution_count": 54,
   "metadata": {},
   "outputs": [],
   "source": [
    "df = pd.DataFrame({\n",
    "    'nome':valor_nomes,\n",
    "    'disciplina':disciplinas,\n",
    "    'nota':lista_notas\n",
    "})\n"
   ]
  },
  {
   "cell_type": "code",
   "execution_count": 59,
   "metadata": {},
   "outputs": [
    {
     "data": {
      "text/html": [
       "<div>\n",
       "<style scoped>\n",
       "    .dataframe tbody tr th:only-of-type {\n",
       "        vertical-align: middle;\n",
       "    }\n",
       "\n",
       "    .dataframe tbody tr th {\n",
       "        vertical-align: top;\n",
       "    }\n",
       "\n",
       "    .dataframe thead th {\n",
       "        text-align: right;\n",
       "    }\n",
       "</style>\n",
       "<table border=\"1\" class=\"dataframe\">\n",
       "  <thead>\n",
       "    <tr style=\"text-align: right;\">\n",
       "      <th></th>\n",
       "      <th>nome</th>\n",
       "      <th>disciplina</th>\n",
       "      <th>nota</th>\n",
       "      <th>situacao</th>\n",
       "    </tr>\n",
       "  </thead>\n",
       "  <tbody>\n",
       "    <tr>\n",
       "      <th>0</th>\n",
       "      <td>Gabrielly</td>\n",
       "      <td>HIS</td>\n",
       "      <td>2.74</td>\n",
       "      <td>abaixo da média</td>\n",
       "    </tr>\n",
       "    <tr>\n",
       "      <th>1</th>\n",
       "      <td>Alex</td>\n",
       "      <td>GEO</td>\n",
       "      <td>8.35</td>\n",
       "      <td>dentro da média</td>\n",
       "    </tr>\n",
       "    <tr>\n",
       "      <th>2</th>\n",
       "      <td>Teresa</td>\n",
       "      <td>POR</td>\n",
       "      <td>5.21</td>\n",
       "      <td>abaixo da média</td>\n",
       "    </tr>\n",
       "    <tr>\n",
       "      <th>3</th>\n",
       "      <td>Enzo</td>\n",
       "      <td>MAT</td>\n",
       "      <td>8.59</td>\n",
       "      <td>dentro da média</td>\n",
       "    </tr>\n",
       "    <tr>\n",
       "      <th>4</th>\n",
       "      <td>Artyom</td>\n",
       "      <td>HIS</td>\n",
       "      <td>1.65</td>\n",
       "      <td>abaixo da média</td>\n",
       "    </tr>\n",
       "  </tbody>\n",
       "</table>\n",
       "</div>"
      ],
      "text/plain": [
       "        nome disciplina  nota         situacao\n",
       "0  Gabrielly        HIS  2.74  abaixo da média\n",
       "1       Alex        GEO  8.35  dentro da média\n",
       "2     Teresa        POR  5.21  abaixo da média\n",
       "3       Enzo        MAT  8.59  dentro da média\n",
       "4     Artyom        HIS  1.65  abaixo da média"
      ]
     },
     "execution_count": 59,
     "metadata": {},
     "output_type": "execute_result"
    }
   ],
   "source": [
    "df['situacao'] = df['nota'].apply(lambda row: 'abaixo da média' if row < 7 else 'dentro da média')\n",
    "df.head()"
   ]
  },
  {
   "cell_type": "code",
   "execution_count": 83,
   "metadata": {},
   "outputs": [
    {
     "data": {
      "text/html": [
       "<div>\n",
       "<style scoped>\n",
       "    .dataframe tbody tr th:only-of-type {\n",
       "        vertical-align: middle;\n",
       "    }\n",
       "\n",
       "    .dataframe tbody tr th {\n",
       "        vertical-align: top;\n",
       "    }\n",
       "\n",
       "    .dataframe thead th {\n",
       "        text-align: right;\n",
       "    }\n",
       "</style>\n",
       "<table border=\"1\" class=\"dataframe\">\n",
       "  <thead>\n",
       "    <tr style=\"text-align: right;\">\n",
       "      <th></th>\n",
       "      <th>disciplina</th>\n",
       "      <th>situacao</th>\n",
       "      <th>qtd</th>\n",
       "    </tr>\n",
       "  </thead>\n",
       "  <tbody>\n",
       "    <tr>\n",
       "      <th>0</th>\n",
       "      <td>CIE</td>\n",
       "      <td>abaixo da média</td>\n",
       "      <td>9</td>\n",
       "    </tr>\n",
       "    <tr>\n",
       "      <th>1</th>\n",
       "      <td>CIE</td>\n",
       "      <td>dentro da média</td>\n",
       "      <td>3</td>\n",
       "    </tr>\n",
       "    <tr>\n",
       "      <th>2</th>\n",
       "      <td>GEO</td>\n",
       "      <td>abaixo da média</td>\n",
       "      <td>9</td>\n",
       "    </tr>\n",
       "    <tr>\n",
       "      <th>3</th>\n",
       "      <td>GEO</td>\n",
       "      <td>dentro da média</td>\n",
       "      <td>2</td>\n",
       "    </tr>\n",
       "    <tr>\n",
       "      <th>4</th>\n",
       "      <td>HIS</td>\n",
       "      <td>abaixo da média</td>\n",
       "      <td>9</td>\n",
       "    </tr>\n",
       "    <tr>\n",
       "      <th>5</th>\n",
       "      <td>HIS</td>\n",
       "      <td>dentro da média</td>\n",
       "      <td>1</td>\n",
       "    </tr>\n",
       "    <tr>\n",
       "      <th>6</th>\n",
       "      <td>MAT</td>\n",
       "      <td>abaixo da média</td>\n",
       "      <td>8</td>\n",
       "    </tr>\n",
       "    <tr>\n",
       "      <th>7</th>\n",
       "      <td>MAT</td>\n",
       "      <td>dentro da média</td>\n",
       "      <td>2</td>\n",
       "    </tr>\n",
       "    <tr>\n",
       "      <th>8</th>\n",
       "      <td>POR</td>\n",
       "      <td>abaixo da média</td>\n",
       "      <td>14</td>\n",
       "    </tr>\n",
       "    <tr>\n",
       "      <th>9</th>\n",
       "      <td>POR</td>\n",
       "      <td>dentro da média</td>\n",
       "      <td>3</td>\n",
       "    </tr>\n",
       "  </tbody>\n",
       "</table>\n",
       "</div>"
      ],
      "text/plain": [
       "  disciplina         situacao  qtd\n",
       "0        CIE  abaixo da média    9\n",
       "1        CIE  dentro da média    3\n",
       "2        GEO  abaixo da média    9\n",
       "3        GEO  dentro da média    2\n",
       "4        HIS  abaixo da média    9\n",
       "5        HIS  dentro da média    1\n",
       "6        MAT  abaixo da média    8\n",
       "7        MAT  dentro da média    2\n",
       "8        POR  abaixo da média   14\n",
       "9        POR  dentro da média    3"
      ]
     },
     "execution_count": 83,
     "metadata": {},
     "output_type": "execute_result"
    }
   ],
   "source": [
    "agrupado = df.groupby(['disciplina', 'situacao']).count()\n",
    "agrupado = agrupado.reset_index()\n",
    "agrupado = agrupado.rename(columns={'nome':'qtd'})\n",
    "agrupado = agrupado[['disciplina', 'situacao', 'qtd']]\n",
    "agrupado"
   ]
  },
  {
   "cell_type": "code",
   "execution_count": 85,
   "metadata": {},
   "outputs": [
    {
     "data": {
      "text/plain": [
       "<Axes: xlabel='disciplina', ylabel='qtd'>"
      ]
     },
     "execution_count": 85,
     "metadata": {},
     "output_type": "execute_result"
    },
    {
     "data": {
      "image/png": "[encoded data removed]",
      "text/plain": [
       "<Figure size 640x480 with 1 Axes>"
      ]
     },
     "metadata": {},
     "output_type": "display_data"
    }
   ],
   "source": [
    "sns.barplot(agrupado, x = 'disciplina', y = 'qtd', hue='situacao')"
   ]
  },
  {
   "cell_type": "code",
   "execution_count": null,
   "metadata": {},
   "outputs": [],
   "source": []
  }
 ],
 "metadata": {
  "kernelspec": {
   "display_name": ".venv",
   "language": "python",
   "name": "python3"
  },
  "language_info": {
   "codemirror_mode": {
    "name": "ipython",
    "version": 3
   },
   "file_extension": ".py",
   "mimetype": "text/x-python",
   "name": "python",
   "nbconvert_exporter": "python",
   "pygments_lexer": "ipython3",
   "version": "3.12.2"
  }
 },
 "nbformat": 4,
 "nbformat_minor": 2
}
